{
 "cells": [
  {
   "cell_type": "code",
   "execution_count": 62,
   "id": "d997b721-e81d-49f4-9210-0ea92c8445f3",
   "metadata": {},
   "outputs": [
    {
     "name": "stdout",
     "output_type": "stream",
     "text": [
      "                            OLS Regression Results                            \n",
      "==============================================================================\n",
      "Dep. Variable:                   read   R-squared:                       0.589\n",
      "Model:                            OLS   Adj. R-squared:                  0.580\n",
      "Method:                 Least Squares   F-statistic:                     69.74\n",
      "Date:                Tue, 26 Nov 2024   Prob (F-statistic):           1.44e-36\n",
      "Time:                        16:52:14   Log-Likelihood:                -659.98\n",
      "No. Observations:                 200   AIC:                             1330.\n",
      "Df Residuals:                     195   BIC:                             1346.\n",
      "Df Model:                           4                                         \n",
      "Covariance Type:            nonrobust                                         \n",
      "==============================================================================\n",
      "                 coef    std err          t      P>|t|      [0.025      0.975]\n",
      "------------------------------------------------------------------------------\n",
      "const          1.9461      3.087      0.630      0.529      -4.143       8.035\n",
      "math           0.3029      0.073      4.173      0.000       0.160       0.446\n",
      "write          0.1104      0.071      1.548      0.123      -0.030       0.251\n",
      "science        0.2737      0.064      4.252      0.000       0.147       0.401\n",
      "socst          0.2733      0.057      4.759      0.000       0.160       0.387\n",
      "==============================================================================\n",
      "Omnibus:                        0.371   Durbin-Watson:                   2.129\n",
      "Prob(Omnibus):                  0.831   Jarque-Bera (JB):                0.518\n",
      "Skew:                          -0.014   Prob(JB):                        0.772\n",
      "Kurtosis:                       2.752   Cond. No.                         697.\n",
      "==============================================================================\n",
      "\n",
      "Notes:\n",
      "[1] Standard Errors assume that the covariance matrix of the errors is correctly specified.\n"
     ]
    }
   ],
   "source": [
    "import numpy as np\n",
    "import pandas as pd\n",
    "import matplotlib.pyplot as plt\n",
    "from sklearn.linear_model import LinearRegression\n",
    "import statsmodels.api as sm\n",
    "\n",
    "#--------------------------------------------------------------------------------\n",
    "\n",
    "# Load the CSV file (replace 'your_file.csv' with your actual file path)\n",
    "df = pd.read_csv('/Users/nathan/Downloads/I3R Fall 2024/Assignments/hsb.csv')\n",
    "\n",
    "# Define X and Y\n",
    "X = sm.add_constant(df[['math', 'write', 'science', 'socst']])\n",
    "y = df['read']\n",
    "\n",
    "\n",
    "#--------------------------------------------------------------------------------\n",
    "\n",
    "# Fit a linear regression model\n",
    "model = LinearRegression()\n",
    "model.fit(X, y)\n",
    "\n",
    "# Predict y values\n",
    "y_pred = model.predict(X)\n",
    "\n",
    "# Calculate residuals\n",
    "residuals = y - y_pred\n",
    "\n",
    "#--------------------------------------------------------------------------------\n",
    "\n",
    "# Create and fit the OLS regression model\n",
    "model = sm.OLS(y, X)\n",
    "results = model.fit()\n",
    "\n",
    "# Display the full summary (optional)\n",
    "print(results.summary())"
   ]
  },
  {
   "cell_type": "code",
   "execution_count": null,
   "id": "d8340f8b-263c-4f58-8e94-28958eacb36f",
   "metadata": {},
   "outputs": [],
   "source": []
  },
  {
   "cell_type": "code",
   "execution_count": null,
   "id": "9c02c02c-c7f1-4dce-a5e4-eebf620027ba",
   "metadata": {},
   "outputs": [],
   "source": []
  }
 ],
 "metadata": {
  "kernelspec": {
   "display_name": "Python 3 (ipykernel)",
   "language": "python",
   "name": "python3"
  },
  "language_info": {
   "codemirror_mode": {
    "name": "ipython",
    "version": 3
   },
   "file_extension": ".py",
   "mimetype": "text/x-python",
   "name": "python",
   "nbconvert_exporter": "python",
   "pygments_lexer": "ipython3",
   "version": "3.12.4"
  }
 },
 "nbformat": 4,
 "nbformat_minor": 5
}
